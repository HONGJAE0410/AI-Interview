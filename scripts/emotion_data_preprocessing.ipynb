{
 "cells": [
  {
   "cell_type": "code",
   "execution_count": 1,
   "metadata": {},
   "outputs": [
    {
     "name": "stdout",
     "output_type": "stream",
     "text": [
      "(43991, 15)\n"
     ]
    },
    {
     "data": {
      "text/plain": [
       "상황\n",
       "sad          11152\n",
       "anger         8372\n",
       "disgust       4660\n",
       "happiness     4548\n",
       "fear          4131\n",
       "angry         3263\n",
       "neutral       3262\n",
       "sadness       2848\n",
       "surprise      1755\n",
       "Name: count, dtype: int64"
      ]
     },
     "execution_count": 1,
     "metadata": {},
     "output_type": "execute_result"
    }
   ],
   "source": [
    "import pandas as pd\n",
    "df1 = pd.read_csv('./4차년도.csv', encoding='CP949')\n",
    "df2 = pd.read_csv('./5차년도.csv', encoding='CP949')\n",
    "df3 = pd.read_csv('./5차년도_2차.csv', encoding='CP949') \n",
    "data = pd.concat([df1, df2, df3], ignore_index=True)\n",
    "\n",
    "# 데이터 shape\n",
    "print(data.shape)\n",
    "# 전체 감정의 수\n",
    "emotion_counts = data['상황'].value_counts()\n",
    "emotion_counts"
   ]
  },
  {
   "cell_type": "markdown",
   "metadata": {},
   "source": [
    "##### 아마 5명이 해당 음성에 대해 주관적으로 평가한 것 같음 -> 구체적으로 진행하면 복잡해지기에 우선 상황을 기준을 해당 감정이라고 생각하고 진행 "
   ]
  },
  {
   "cell_type": "code",
   "execution_count": 2,
   "metadata": {},
   "outputs": [
    {
     "name": "stdout",
     "output_type": "stream",
     "text": [
      "0.09390557159418972\n"
     ]
    }
   ],
   "source": [
    "# 두려움은 약 7%\n",
    "fear_data = data[data['상황']=='fear']\n",
    "print(len(fear_data)/len(data))"
   ]
  },
  {
   "cell_type": "code",
   "execution_count": 3,
   "metadata": {},
   "outputs": [],
   "source": [
    "data['1번 감정'] = data['1번 감정'].apply(str.lower)\n",
    "data['2번 감정'] = data['2번 감정'].apply(str.lower)\n",
    "data['3번 감정'] = data['3번 감정'].apply(str.lower)\n",
    "data['4번 감정'] = data['4번 감정'].apply(str.lower)\n",
    "data['5번 감정'] = data['5번 감정'].apply(str.lower)"
   ]
  },
  {
   "cell_type": "code",
   "execution_count": 4,
   "metadata": {},
   "outputs": [
    {
     "data": {
      "text/html": [
       "<div>\n",
       "<style scoped>\n",
       "    .dataframe tbody tr th:only-of-type {\n",
       "        vertical-align: middle;\n",
       "    }\n",
       "\n",
       "    .dataframe tbody tr th {\n",
       "        vertical-align: top;\n",
       "    }\n",
       "\n",
       "    .dataframe thead th {\n",
       "        text-align: right;\n",
       "    }\n",
       "</style>\n",
       "<table border=\"1\" class=\"dataframe\">\n",
       "  <thead>\n",
       "    <tr style=\"text-align: right;\">\n",
       "      <th></th>\n",
       "      <th>wav_id</th>\n",
       "      <th>발화문</th>\n",
       "      <th>상황</th>\n",
       "    </tr>\n",
       "  </thead>\n",
       "  <tbody>\n",
       "    <tr>\n",
       "      <th>0</th>\n",
       "      <td>5e258fd1305bcf3ad153a6a4</td>\n",
       "      <td>어, 청소 니가 대신 해 줘!</td>\n",
       "      <td>angry</td>\n",
       "    </tr>\n",
       "    <tr>\n",
       "      <th>1</th>\n",
       "      <td>5e258fe2305bcf3ad153a6a5</td>\n",
       "      <td>둘 다 청소 하기 싫어. 귀찮아.</td>\n",
       "      <td>angry</td>\n",
       "    </tr>\n",
       "    <tr>\n",
       "      <th>2</th>\n",
       "      <td>5e258ff5305bcf3ad153a6a6</td>\n",
       "      <td>둘 다 하기 싫어서 화내.</td>\n",
       "      <td>angry</td>\n",
       "    </tr>\n",
       "    <tr>\n",
       "      <th>3</th>\n",
       "      <td>5e25902f305bcf3ad153a6a9</td>\n",
       "      <td>그럼 방세는 어떡해.</td>\n",
       "      <td>sadness</td>\n",
       "    </tr>\n",
       "    <tr>\n",
       "      <th>4</th>\n",
       "      <td>5e27f90b5807b852d9e0157b</td>\n",
       "      <td>권태긴줄 알았는데 다른 사람이 생겼나보더라고.</td>\n",
       "      <td>sadness</td>\n",
       "    </tr>\n",
       "    <tr>\n",
       "      <th>...</th>\n",
       "      <td>...</td>\n",
       "      <td>...</td>\n",
       "      <td>...</td>\n",
       "    </tr>\n",
       "    <tr>\n",
       "      <th>43986</th>\n",
       "      <td>5fbe313c44697678c497c05a</td>\n",
       "      <td>나 엘리베이터에 갇혔어.</td>\n",
       "      <td>sadness</td>\n",
       "    </tr>\n",
       "    <tr>\n",
       "      <th>43987</th>\n",
       "      <td>5fbe251044697678c497bfb8</td>\n",
       "      <td>하지만 기분이 나쁜 걸 어떡해?</td>\n",
       "      <td>sadness</td>\n",
       "    </tr>\n",
       "    <tr>\n",
       "      <th>43988</th>\n",
       "      <td>5fbe31584c55eb78bd7cee7f</td>\n",
       "      <td>자취방 엘리베이턴데 정전인가봐.</td>\n",
       "      <td>sadness</td>\n",
       "    </tr>\n",
       "    <tr>\n",
       "      <th>43989</th>\n",
       "      <td>5fbe2f8544697678c497c047</td>\n",
       "      <td>나 드디어 프로젝트 끝났어!</td>\n",
       "      <td>sadness</td>\n",
       "    </tr>\n",
       "    <tr>\n",
       "      <th>43990</th>\n",
       "      <td>5fbe36714c55eb78bd7ceea3</td>\n",
       "      <td>걱정해줘서 고마워.</td>\n",
       "      <td>angry</td>\n",
       "    </tr>\n",
       "  </tbody>\n",
       "</table>\n",
       "<p>43991 rows × 3 columns</p>\n",
       "</div>"
      ],
      "text/plain": [
       "                         wav_id                        발화문       상황\n",
       "0      5e258fd1305bcf3ad153a6a4           어, 청소 니가 대신 해 줘!    angry\n",
       "1      5e258fe2305bcf3ad153a6a5         둘 다 청소 하기 싫어. 귀찮아.    angry\n",
       "2      5e258ff5305bcf3ad153a6a6             둘 다 하기 싫어서 화내.    angry\n",
       "3      5e25902f305bcf3ad153a6a9                그럼 방세는 어떡해.  sadness\n",
       "4      5e27f90b5807b852d9e0157b  권태긴줄 알았는데 다른 사람이 생겼나보더라고.  sadness\n",
       "...                         ...                        ...      ...\n",
       "43986  5fbe313c44697678c497c05a              나 엘리베이터에 갇혔어.  sadness\n",
       "43987  5fbe251044697678c497bfb8          하지만 기분이 나쁜 걸 어떡해?  sadness\n",
       "43988  5fbe31584c55eb78bd7cee7f          자취방 엘리베이턴데 정전인가봐.  sadness\n",
       "43989  5fbe2f8544697678c497c047            나 드디어 프로젝트 끝났어!  sadness\n",
       "43990  5fbe36714c55eb78bd7ceea3                 걱정해줘서 고마워.    angry\n",
       "\n",
       "[43991 rows x 3 columns]"
      ]
     },
     "execution_count": 4,
     "metadata": {},
     "output_type": "execute_result"
    }
   ],
   "source": [
    "def get_keys(dic): #returns a key for max values in dic\n",
    "  key_list = list(dic.keys())\n",
    "  val_list = list(dic.values())\n",
    "  pos = val_list.index(max(val_list))\n",
    "  return key_list[pos]\n",
    "  \n",
    "final_label = []\n",
    "for i in range(len(data)):\n",
    "  sentiments = {'angry':0, 'sadness':0, 'happiness':0, 'fear': 0, 'disgust':0, 'surprise':0, 'neutral':0}\n",
    "  sentiments[data.iloc[i]['1번 감정']] += data.iloc[i]['1번 감정세기']\n",
    "  sentiments[data.iloc[i]['2번 감정']] += data.iloc[i]['2번 감정세기']\n",
    "  sentiments[data.iloc[i]['3번 감정']] += data.iloc[i]['3번 감정세기']\n",
    "  sentiments[data.iloc[i]['4번 감정']] += data.iloc[i]['4번감정세기']\n",
    "  sentiments[data.iloc[i]['5번 감정']] += data.iloc[i]['5번 감정세기']\n",
    "\n",
    "  final_label.append(get_keys(sentiments))\n",
    "  \n",
    "final_label_df = pd.DataFrame(final_label, columns=['상황'])\n",
    "new_data = pd.concat([data[['wav_id', '발화문']], final_label_df], axis = 1)\n",
    "new_data"
   ]
  },
  {
   "cell_type": "markdown",
   "metadata": {},
   "source": [
    "### 감정 label마다 감정 세기를 더하여 감정 세기가 제일 큰 감정을 해당 발화문의 감정 label로 설정"
   ]
  },
  {
   "cell_type": "code",
   "execution_count": 5,
   "metadata": {},
   "outputs": [
    {
     "data": {
      "text/plain": [
       "상황\n",
       "sadness      21264\n",
       "angry        10425\n",
       "happiness     5103\n",
       "fear          3071\n",
       "disgust       2692\n",
       "surprise      1436\n",
       "Name: count, dtype: int64"
      ]
     },
     "execution_count": 5,
     "metadata": {},
     "output_type": "execute_result"
    }
   ],
   "source": [
    "emotion_counts = new_data['상황'].value_counts()\n",
    "emotion_counts"
   ]
  },
  {
   "cell_type": "markdown",
   "metadata": {},
   "source": [
    "### 기존 1386에서 1152로 fear 감소한 것을 알 수 있음"
   ]
  },
  {
   "cell_type": "code",
   "execution_count": null,
   "metadata": {},
   "outputs": [
    {
     "data": {
      "text/plain": [
       "(상황\n",
       " fear         3071\n",
       " sadness      1632\n",
       " angry         757\n",
       " happiness     364\n",
       " disgust       202\n",
       " surprise      116\n",
       " Name: count, dtype: int64,\n",
       " (6142, 3))"
      ]
     },
     "execution_count": 17,
     "metadata": {},
     "output_type": "execute_result"
    }
   ],
   "source": [
    "# Separate fear and non-fear samples\n",
    "fear_samples = new_data[new_data['상황'] == 'fear']\n",
    "non_fear_samples = new_data[new_data['상황'] != 'fear']\n",
    "\n",
    "# Randomly sample 1152 non-fear instances\n",
    "non_fear_sampled = non_fear_samples.sample(n=3071, random_state=42)\n",
    "\n",
    "# Combine fear and sampled non-fear instances into a new balanced dataset\n",
    "balanced_data = pd.concat([fear_samples, non_fear_sampled], ignore_index=True)\n",
    "balanced_data = balanced_data.sample(frac=1, random_state=42).reset_index(drop=True)\n",
    "\n",
    "# Verify the balanced dataset's distribution and size\n",
    "balanced_data_info = balanced_data['상황'].value_counts(), balanced_data.shape\n",
    "balanced_data_info\n",
    "\n"
   ]
  },
  {
   "cell_type": "code",
   "execution_count": 18,
   "metadata": {},
   "outputs": [
    {
     "data": {
      "text/html": [
       "<div>\n",
       "<style scoped>\n",
       "    .dataframe tbody tr th:only-of-type {\n",
       "        vertical-align: middle;\n",
       "    }\n",
       "\n",
       "    .dataframe tbody tr th {\n",
       "        vertical-align: top;\n",
       "    }\n",
       "\n",
       "    .dataframe thead th {\n",
       "        text-align: right;\n",
       "    }\n",
       "</style>\n",
       "<table border=\"1\" class=\"dataframe\">\n",
       "  <thead>\n",
       "    <tr style=\"text-align: right;\">\n",
       "      <th></th>\n",
       "      <th>wav_id</th>\n",
       "      <th>발화문</th>\n",
       "      <th>상황</th>\n",
       "    </tr>\n",
       "  </thead>\n",
       "  <tbody>\n",
       "    <tr>\n",
       "      <th>0</th>\n",
       "      <td>5f653d94111dfd48d40fc9d4</td>\n",
       "      <td>창문으로 집 밖을 봤는데 집 주변까지 물이 차올라서 밖으로 나갈 수가 없어.</td>\n",
       "      <td>fear</td>\n",
       "    </tr>\n",
       "    <tr>\n",
       "      <th>1</th>\n",
       "      <td>5e33cf195807b852d9e0585f</td>\n",
       "      <td>이주일전쯤에 한번 얘기해봤어.</td>\n",
       "      <td>angry</td>\n",
       "    </tr>\n",
       "    <tr>\n",
       "      <th>2</th>\n",
       "      <td>5e37cf0b7995ef170fc0f373</td>\n",
       "      <td>나 내일 약속 있는데, 그대로 가도 될까?</td>\n",
       "      <td>fear</td>\n",
       "    </tr>\n",
       "    <tr>\n",
       "      <th>3</th>\n",
       "      <td>5f6f5baf9e04b149046cbe20</td>\n",
       "      <td>태풍에 장마가 겹쳐서 엉망이 돼버렸어. 나가지도 못하고.</td>\n",
       "      <td>sadness</td>\n",
       "    </tr>\n",
       "    <tr>\n",
       "      <th>4</th>\n",
       "      <td>5e33dc695807b852d9e05c9a</td>\n",
       "      <td>갑자기 그렇게 됐네.</td>\n",
       "      <td>sadness</td>\n",
       "    </tr>\n",
       "    <tr>\n",
       "      <th>...</th>\n",
       "      <td>...</td>\n",
       "      <td>...</td>\n",
       "      <td>...</td>\n",
       "    </tr>\n",
       "    <tr>\n",
       "      <th>6137</th>\n",
       "      <td>5e3647b3c8c25f16cd144b34</td>\n",
       "      <td>우리 아빠, 어제 또 다쳤어!</td>\n",
       "      <td>angry</td>\n",
       "    </tr>\n",
       "    <tr>\n",
       "      <th>6138</th>\n",
       "      <td>5e40ef6448600202f726fa82</td>\n",
       "      <td>그냥 길을 걷고 있는데 집에도 못 가겠어. 부모님이 뭐라고 하실지 몰라서.</td>\n",
       "      <td>sadness</td>\n",
       "    </tr>\n",
       "    <tr>\n",
       "      <th>6139</th>\n",
       "      <td>5f6d5b07f8fac448cc0a5fc9</td>\n",
       "      <td>아니 아까 해피를 산책시키다가 깜짝 놀랐어.</td>\n",
       "      <td>surprise</td>\n",
       "    </tr>\n",
       "    <tr>\n",
       "      <th>6140</th>\n",
       "      <td>5f98a721111dfd48d40ff6e6</td>\n",
       "      <td>아까는 해피때문에 엄청 놀랐는데 지금은 진정되었어.</td>\n",
       "      <td>surprise</td>\n",
       "    </tr>\n",
       "    <tr>\n",
       "      <th>6141</th>\n",
       "      <td>5e486cd72a2d173b73a02d79</td>\n",
       "      <td>나 친구랑 식당에서 밥먹는데 지진 나가지고.</td>\n",
       "      <td>fear</td>\n",
       "    </tr>\n",
       "  </tbody>\n",
       "</table>\n",
       "<p>6142 rows × 3 columns</p>\n",
       "</div>"
      ],
      "text/plain": [
       "                        wav_id                                         발화문   \n",
       "0     5f653d94111dfd48d40fc9d4  창문으로 집 밖을 봤는데 집 주변까지 물이 차올라서 밖으로 나갈 수가 없어.  \\\n",
       "1     5e33cf195807b852d9e0585f                            이주일전쯤에 한번 얘기해봤어.   \n",
       "2     5e37cf0b7995ef170fc0f373                     나 내일 약속 있는데, 그대로 가도 될까?   \n",
       "3     5f6f5baf9e04b149046cbe20             태풍에 장마가 겹쳐서 엉망이 돼버렸어. 나가지도 못하고.   \n",
       "4     5e33dc695807b852d9e05c9a                                 갑자기 그렇게 됐네.   \n",
       "...                        ...                                         ...   \n",
       "6137  5e3647b3c8c25f16cd144b34                            우리 아빠, 어제 또 다쳤어!   \n",
       "6138  5e40ef6448600202f726fa82   그냥 길을 걷고 있는데 집에도 못 가겠어. 부모님이 뭐라고 하실지 몰라서.   \n",
       "6139  5f6d5b07f8fac448cc0a5fc9                    아니 아까 해피를 산책시키다가 깜짝 놀랐어.   \n",
       "6140  5f98a721111dfd48d40ff6e6                아까는 해피때문에 엄청 놀랐는데 지금은 진정되었어.   \n",
       "6141  5e486cd72a2d173b73a02d79                    나 친구랑 식당에서 밥먹는데 지진 나가지고.   \n",
       "\n",
       "            상황  \n",
       "0         fear  \n",
       "1        angry  \n",
       "2         fear  \n",
       "3      sadness  \n",
       "4      sadness  \n",
       "...        ...  \n",
       "6137     angry  \n",
       "6138   sadness  \n",
       "6139  surprise  \n",
       "6140  surprise  \n",
       "6141      fear  \n",
       "\n",
       "[6142 rows x 3 columns]"
      ]
     },
     "execution_count": 18,
     "metadata": {},
     "output_type": "execute_result"
    }
   ],
   "source": [
    "balanced_data"
   ]
  },
  {
   "cell_type": "code",
   "execution_count": 20,
   "metadata": {},
   "outputs": [
    {
     "name": "stdout",
     "output_type": "stream",
     "text": [
      "Train 데이터셋 크기: (5526, 3)\n",
      "Test 데이터셋 크기: (616, 3)\n"
     ]
    }
   ],
   "source": [
    "from sklearn.model_selection import train_test_split\n",
    "\n",
    "# 불안과 비불안 데이터를 각각 분리\n",
    "fear_samples = balanced_data[balanced_data['상황'] == 'fear']\n",
    "non_fear_samples = balanced_data[balanced_data['상황'] != 'fear']\n",
    "\n",
    "# 각 데이터를 90:10으로 분할\n",
    "fear_train, fear_test = train_test_split(fear_samples, test_size=0.1, random_state=42)\n",
    "non_fear_train, non_fear_test = train_test_split(non_fear_samples, test_size=0.1, random_state=42)\n",
    "\n",
    "# Train과 Test 데이터셋을 결합하여 1:1 비율 유지\n",
    "train_data = pd.concat([fear_train, non_fear_train], ignore_index=True)\n",
    "train_data = train_data.sample(frac=1, random_state=42).reset_index(drop=True)\n",
    "test_data = pd.concat([fear_test, non_fear_test], ignore_index=True)\n",
    "test_data = test_data.sample(frac=1, random_state=42).reset_index(drop=True)\n",
    "\n",
    "# 각각의 데이터셋을 CSV 파일로 저장\n",
    "train_data.to_csv('Total_balanced_train_data.csv', index=False, encoding='CP949')\n",
    "test_data.to_csv('Total_balanced_test_data.csv', index=False, encoding='CP949')\n",
    "\n",
    "# 결과 확인\n",
    "print(\"Train 데이터셋 크기:\", train_data.shape)\n",
    "print(\"Test 데이터셋 크기:\", test_data.shape)"
   ]
  },
  {
   "cell_type": "code",
   "execution_count": 31,
   "metadata": {},
   "outputs": [
    {
     "name": "stdout",
     "output_type": "stream",
     "text": [
      "선택된 파일들이 ./test_data 폴더로 이동되었습니다.\n"
     ]
    }
   ],
   "source": [
    "import os\n",
    "import pandas as pd\n",
    "import shutil\n",
    "\n",
    "# 경로 설정\n",
    "test_data_folder = './Total_balanced_train_data.csv'\n",
    "wav_folder = './4차년도_2차'\n",
    "test_folder = './Total_train'\n",
    "\n",
    "# train_data 폴더가 없다면 생성\n",
    "os.makedirs(test_folder, exist_ok=True)\n",
    "\n",
    "# CSV 파일에서 wav_id 열을 불러오기\n",
    "data = pd.read_csv(test_data_folder, encoding='CP949')\n",
    "wav_ids = data['wav_id'].astype(str).tolist()  # 모든 값을 문자열로 변환\n",
    "\n",
    "# 파일 옮기기\n",
    "for wav_id in wav_ids:\n",
    "    wav_file = f\"{wav_id}.wav\"\n",
    "    wav_path = os.path.join(wav_folder, wav_file)\n",
    "    \n",
    "    # 파일이 존재하면 train_data 폴더로 이동\n",
    "    if os.path.exists(wav_path):\n",
    "        shutil.move(wav_path, test_folder)\n",
    "\n",
    "print(\"선택된 파일들이 ./test_data 폴더로 이동되었습니다.\")\n"
   ]
  }
 ],
 "metadata": {
  "kernelspec": {
   "display_name": "Python 3",
   "language": "python",
   "name": "python3"
  },
  "language_info": {
   "codemirror_mode": {
    "name": "ipython",
    "version": 3
   },
   "file_extension": ".py",
   "mimetype": "text/x-python",
   "name": "python",
   "nbconvert_exporter": "python",
   "pygments_lexer": "ipython3",
   "version": "3.10.10"
  },
  "orig_nbformat": 4
 },
 "nbformat": 4,
 "nbformat_minor": 2
}
